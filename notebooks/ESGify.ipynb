{
  "nbformat": 4,
  "nbformat_minor": 0,
  "metadata": {
    "colab": {
      "provenance": []
    },
    "kernelspec": {
      "name": "python3",
      "display_name": "Python 3"
    },
    "language_info": {
      "name": "python"
    }
  },
  "cells": [
    {
      "cell_type": "code",
      "source": [
        "from collections import OrderedDict\n",
        "from transformers import MPNetPreTrainedModel, MPNetModel, AutoTokenizer\n",
        "import torch\n",
        "\n",
        "# Mean Pooling - Take attention mask into account for correct averaging\n",
        "def mean_pooling(model_output, attention_mask):\n",
        "        token_embeddings = model_output #First element of model_output contains all token embeddings\n",
        "        input_mask_expanded = attention_mask.unsqueeze(-1).expand(token_embeddings.size()).float()\n",
        "        return torch.sum(token_embeddings * input_mask_expanded, 1) / torch.clamp(input_mask_expanded.sum(1), min=1e-9)\n",
        "\n",
        "# Definition of ESGify class because of custom,sentence-transformers like, mean pooling function and classifier head\n",
        "class ESGify(MPNetPreTrainedModel):\n",
        "    \"\"\"Model for Classification ESG risks from text.\"\"\"\n",
        "\n",
        "    def __init__(self,config): #tuning only the head\n",
        "        \"\"\"\n",
        "        \"\"\"\n",
        "        super().__init__(config)\n",
        "        # Instantiate Parts of model\n",
        "        self.mpnet = MPNetModel(config,add_pooling_layer=False)\n",
        "        self.id2label =  config.id2label\n",
        "        self.label2id =  config.label2id\n",
        "        self.classifier = torch.nn.Sequential(OrderedDict([('norm',torch.nn.BatchNorm1d(768)),\n",
        "                                                ('linear',torch.nn.Linear(768,512)),\n",
        "                                                ('act',torch.nn.ReLU()),\n",
        "                                                ('batch_n',torch.nn.BatchNorm1d(512)),\n",
        "                                                ('drop_class', torch.nn.Dropout(0.2)),\n",
        "                                                ('class_l',torch.nn.Linear(512 ,47))]))\n",
        "\n",
        "\n",
        "    def forward(self, input_ids, attention_mask):\n",
        "         # Feed input to mpnet model\n",
        "        outputs = self.mpnet(input_ids=input_ids,\n",
        "                             attention_mask=attention_mask)\n",
        "\n",
        "        # mean pooling dataset and eed input to classifier to compute logits\n",
        "        logits = self.classifier( mean_pooling(outputs['last_hidden_state'],attention_mask))\n",
        "\n",
        "        # apply sigmoid\n",
        "        logits  = 1.0 / (1.0 + torch.exp(-logits))\n",
        "        return logits\n"
      ],
      "metadata": {
        "id": "yU5IxybIPERx"
      },
      "execution_count": null,
      "outputs": []
    },
    {
      "cell_type": "code",
      "source": [
        "model = ESGify.from_pretrained('ai-lab/ESGify')\n",
        "tokenizer = AutoTokenizer.from_pretrained('ai-lab/ESGify')\n"
      ],
      "metadata": {
        "id": "6dLPBs-8PGYU"
      },
      "execution_count": null,
      "outputs": []
    },
    {
      "cell_type": "code",
      "source": [
        "text = \"\"\"Особое внимание на фестивале банк уделил практикам устойчивого развития и ESG-повестке\n",
        "\n",
        "7 марта 2024 года, федеральная территория «Сириус»\n",
        "\n",
        "На Всемирном фестивале молодёжи Сбер провёл SberEcoLabs — серию лекций и практических занятий для старшеклассников. Участники из 15 стран, включая Казахстан, Ливан, Алжир, Кувейт, Египет, Узбекистан, Иорданию и Ливию, в составе двух команд 12 часов сообща работали над поиском решений климатических и экологических задач человечества. В эколаборатории молодые лидеры познакомились с экопроектированием, зелёными технологиями и AI-решениями Сбера.\n",
        "\n",
        "Участники первого потока SberEcoLabs изучили рынок экотоваров и услуг, построили гипотезы, проанализировали вызовы и возможности и сгенерировали идеи экостартапов. Финальным этапом стала разработка бизнес-модели и стратегии продвижения. Для поиска информации и визуализации своих идей ребята задействовали AI-сервисы Сбера GigaChat и Kandinsky.\n",
        "\n",
        "В результате участники «запустили» сразу четыре стартапа: «Экотуризм: вся экология города в одном туре», «Зелёный доктор» (медицинская диагностика с помощью AI), центр арктического экотуризма «Арктический вектор» и Woodwave (посади тотемное дерево для своего ребёнка и создай ему место силы).\n",
        "\n",
        "Участники второго потока создавали сценарии будущего, в котором природа, технологии и человек сосуществуют в гармонии. Задачей молодых лидеров было привлечь внимание к повестке устойчивого развития и показать рациональные пути содействия планете через яркую визуализацию экологических проблем. Для этого ребята проводили форсайт-сессии по темам климатических изменений, городов и экологических профессий будущего, делая прогноз и оценку экологического воздействия и его последствий на горизонте 5, 10 и 50 лет. Участники исследовали тренды, строили негативные и позитивные сценарии, анализировали вызовы и возможности и придумывали возможные решения экологических задач. Полученные результаты они оформили в виде комикса также с помощью GigaChat и Kandinsky.\n",
        "\n",
        "Свои инициативы молодые лидеры презентовали на итоговой ярмарке проектов Всемирного фестиваля молодёжи. Участники SberEcoLabs также получили памятные сувениры на стенде Сбера из рук российского рэп-исполнителя ST (Александра Степанова).\n",
        "\n",
        "Кроме того, на фестивале Сбер и «ОПОРА РОССИИ» провели для молодых предпринимателей командную игру «Завод» — её участниками стали ребята из Абхазии, Португалии, Турции, Пакистана, Китая, ЮАР, Замбии, Таиланда и других стран.\n",
        "\n",
        "Бизнес-игра «ЗАВОД» позволяет проверить навыки управления производством и принятия стратегических решений, а также научиться работать в команде. Игроки погружаются в атмосферу реального производства, решают различные задачи и отвечают на вызовы, которые возникают на пути успешного предпринимателя.\n",
        "\n",
        "Так, участники игры запускали завод по производству автомобильных запчастей. При этом они должны были интегрировать в бизнес-модель предприятия принципы социальной, экологической и корпоративной ответственности. В первый игровой год ребята снижали использование пластика и бумаги, вводили раздельный сбор мусора. На второй год — внедряли программы противопожарной безопасности и ESG-рисков компаний-поставщиков, вкладывались в развитие сотрудников, включая корпоративные программы заботы о здоровье. На третьем этапе — осваивали страхование экологических рисков. Правильное использование ESG-практик ускоряло развитие заводов: предприятия, маркетинг которых строился на зелёной повестке, быстрее наращивали продажи.\n",
        "\n",
        "В ходе научно-технологического международного хакатона «Большие вызовы» эксперты Сбера также помогли участникам выбрать пути решения глобальных вызовов нашего времени, связанных с достижением целей устойчивого развития (ЦУР) ООН. Так, молодые лидеры из Абхазии, Бразилии, Кыргызстана и России создавали «Атлас устойчивого развития».\n",
        "\n",
        "Участники поделились на две команды: одна выбрала ЦУР № 4 «Качественное образование», вторая — ЦУР № 13 «Борьба с изменениями климата». Первая команда, руководствуясь картой эмпатии, предложила создать на основе искусственного интеллекта универсального умного помощника для педагогов, учеников и их родителей. Для борьбы с изменениями климата вторая команда разработала эффективные варианты перехода с ископаемых источников энергии на возобновляемые. В финале хакатона участники визуализировали свои дорожные карты с помощью Kandinsky на портале FusionBrain.ai от Института искусственного интеллекта AIRI.\n",
        "\n",
        "Всемирный фестиваль молодёжи проходит на федеральной территории «Сириус» с 1 по 7 марта 2024 года в соответствии с указом Президента России Владимира Путина в целях развития международного молодёжного сотрудничества. Организатором Всемирного фестиваля молодёжи выступает Федеральное агентство по делам молодёжи (Росмолодёжь), оператор ВФМ-2024 — дирекция Всемирного фестиваля молодёжи. Сбер — генеральный партнёр фестиваля.\"\"\""
      ],
      "metadata": {
        "id": "3JRDorAfPV3P"
      },
      "execution_count": null,
      "outputs": []
    },
    {
      "cell_type": "code",
      "source": [
        "model = ESGify.from_pretrained('ai-lab/ESGify')\n",
        "tokenizer = AutoTokenizer.from_pretrained('ai-lab/ESGify')\n"
      ],
      "metadata": {
        "id": "SdvGcoMKQRYJ"
      },
      "execution_count": null,
      "outputs": []
    },
    {
      "cell_type": "code",
      "source": [
        "texts = [text]\n",
        "to_model = tokenizer.batch_encode_plus(\n",
        "                  texts,\n",
        "                  add_special_tokens=True,\n",
        "                  max_length=512,\n",
        "                  return_token_type_ids=False,\n",
        "                  padding=\"max_length\",\n",
        "                  truncation=True,\n",
        "                  return_attention_mask=True,\n",
        "                  return_tensors='pt',\n",
        "                )\n",
        "results = model(**to_model)\n"
      ],
      "metadata": {
        "id": "Nh55IegJPH_b"
      },
      "execution_count": null,
      "outputs": []
    },
    {
      "cell_type": "code",
      "source": [
        "import numpy as np\n",
        "for i in torch.topk(results, k=3).indices.tolist()[0]:\n",
        "    print(f\"{model.id2label[i]}: {np.round(results.flatten()[i].item(), 3)}\")\n"
      ],
      "metadata": {
        "colab": {
          "base_uri": "https://localhost:8080/"
        },
        "id": "TXe-2p0TPJt0",
        "outputId": "b531871a-a8ab-43f2-94c2-cc8297236374"
      },
      "execution_count": null,
      "outputs": [
        {
          "output_type": "stream",
          "name": "stdout",
          "text": [
            "Soil and Groundwater Impact: 0.885\n",
            "Not Relevant to ESG: 0.521\n",
            "Corporate Governance: 0.488\n"
          ]
        }
      ]
    },
    {
      "cell_type": "code",
      "source": [
        "model = ESGify.from_pretrained('ai-lab/ESGify')\n",
        "tokenizer = AutoTokenizer.from_pretrained('ai-lab/ESGify')\n"
      ],
      "metadata": {
        "id": "1SOOffxWQSF5"
      },
      "execution_count": null,
      "outputs": []
    },
    {
      "cell_type": "code",
      "source": [
        "texts = [text]\n",
        "to_model = tokenizer.batch_encode_plus(\n",
        "                  texts,\n",
        "                  add_special_tokens=True,\n",
        "                  max_length=512,\n",
        "                  return_token_type_ids=False,\n",
        "                  padding=\"max_length\",\n",
        "                  truncation=True,\n",
        "                  return_attention_mask=True,\n",
        "                  return_tensors='pt',\n",
        "                )\n",
        "results = model(**to_model)\n"
      ],
      "metadata": {
        "id": "niNwzrR6QDRO"
      },
      "execution_count": null,
      "outputs": []
    },
    {
      "cell_type": "code",
      "source": [
        "import numpy as np\n",
        "for i in torch.topk(results, k=3).indices.tolist()[0]:\n",
        "    print(f\"{model.id2label[i]}: {np.round(results.flatten()[i].item(), 3)}\")\n"
      ],
      "metadata": {
        "colab": {
          "base_uri": "https://localhost:8080/"
        },
        "id": "iDW0fHqmQDN-",
        "outputId": "eb26ae04-b414-4d26-bd3e-1df919792667"
      },
      "execution_count": null,
      "outputs": [
        {
          "output_type": "stream",
          "name": "stdout",
          "text": [
            "Soil and Groundwater Impact: 0.885\n",
            "Not Relevant to ESG: 0.521\n",
            "Corporate Governance: 0.488\n"
          ]
        }
      ]
    },
    {
      "cell_type": "code",
      "source": [
        "model = ESGify.from_pretrained('ai-lab/ESGify')\n",
        "tokenizer = AutoTokenizer.from_pretrained('ai-lab/ESGify')\n"
      ],
      "metadata": {
        "id": "M8zKtEfgQSpg"
      },
      "execution_count": null,
      "outputs": []
    },
    {
      "cell_type": "code",
      "source": [
        "texts = [text]\n",
        "to_model = tokenizer.batch_encode_plus(\n",
        "                  texts,\n",
        "                  add_special_tokens=True,\n",
        "                  max_length=512,\n",
        "                  return_token_type_ids=False,\n",
        "                  padding=\"max_length\",\n",
        "                  truncation=True,\n",
        "                  return_attention_mask=True,\n",
        "                  return_tensors='pt',\n",
        "                )\n",
        "results = model(**to_model)\n"
      ],
      "metadata": {
        "id": "UWRiAHiLQDLF"
      },
      "execution_count": null,
      "outputs": []
    },
    {
      "cell_type": "code",
      "source": [
        "import numpy as np\n",
        "for i in torch.topk(results, k=3).indices.tolist()[0]:\n",
        "    print(f\"{model.id2label[i]}: {np.round(results.flatten()[i].item(), 3)}\")\n"
      ],
      "metadata": {
        "colab": {
          "base_uri": "https://localhost:8080/"
        },
        "id": "IBSFtTnAQC_Y",
        "outputId": "a8044adb-c2cd-47f9-b171-440e2b7591bb"
      },
      "execution_count": null,
      "outputs": [
        {
          "output_type": "stream",
          "name": "stdout",
          "text": [
            "Soil and Groundwater Impact: 0.885\n",
            "Not Relevant to ESG: 0.521\n",
            "Corporate Governance: 0.488\n"
          ]
        }
      ]
    }
  ]
}